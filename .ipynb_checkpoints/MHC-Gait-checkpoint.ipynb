{
 "cells": [
  {
   "cell_type": "code",
   "execution_count": 1,
   "metadata": {},
   "outputs": [
    {
     "data": {
      "text/html": [
       "<div>\n",
       "<style scoped>\n",
       "    .dataframe tbody tr th:only-of-type {\n",
       "        vertical-align: middle;\n",
       "    }\n",
       "\n",
       "    .dataframe tbody tr th {\n",
       "        vertical-align: top;\n",
       "    }\n",
       "\n",
       "    .dataframe thead th {\n",
       "        text-align: right;\n",
       "    }\n",
       "</style>\n",
       "<table border=\"1\" class=\"dataframe\">\n",
       "  <thead>\n",
       "    <tr style=\"text-align: right;\">\n",
       "      <th></th>\n",
       "      <th>recordId</th>\n",
       "      <th>healthCode</th>\n",
       "      <th>weight</th>\n",
       "      <th>sex</th>\n",
       "      <th>height</th>\n",
       "      <th>currentAge</th>\n",
       "    </tr>\n",
       "  </thead>\n",
       "  <tbody>\n",
       "    <tr>\n",
       "      <th>0</th>\n",
       "      <td>b141e6da-ba2a-4267-82a7-8484ec264afc</td>\n",
       "      <td>660c450e-456c-4835-8cad-3d8842492913</td>\n",
       "      <td>200.0</td>\n",
       "      <td>Male</td>\n",
       "      <td>75.0</td>\n",
       "      <td>67.0</td>\n",
       "    </tr>\n",
       "    <tr>\n",
       "      <th>1</th>\n",
       "      <td>aa326e81-349d-4c95-9c15-4cf78fbda5eb</td>\n",
       "      <td>b04ae29d-7c3e-49fb-951b-69a6bead8ad9</td>\n",
       "      <td>209.0</td>\n",
       "      <td>Male</td>\n",
       "      <td>76.0</td>\n",
       "      <td>66.0</td>\n",
       "    </tr>\n",
       "    <tr>\n",
       "      <th>2</th>\n",
       "      <td>6056f89a-9827-4a28-b67c-fad59b97f793</td>\n",
       "      <td>bfdf60c0-c322-47f0-8a47-a52c7dc50ab9</td>\n",
       "      <td>92.0</td>\n",
       "      <td>Male</td>\n",
       "      <td>73.0</td>\n",
       "      <td>34.0</td>\n",
       "    </tr>\n",
       "    <tr>\n",
       "      <th>3</th>\n",
       "      <td>66aed6d3-f6e4-4ec0-be76-eed94d6db501</td>\n",
       "      <td>32ee6b1e-e3c9-48f2-b4e4-1d29ca134ce6</td>\n",
       "      <td>123.0</td>\n",
       "      <td>Female</td>\n",
       "      <td>67.0</td>\n",
       "      <td>30.0</td>\n",
       "    </tr>\n",
       "    <tr>\n",
       "      <th>4</th>\n",
       "      <td>1da48794-aefb-44a4-84da-e0cbafcff92a</td>\n",
       "      <td>552417f4-a4aa-4004-b1a7-0e97ac3b316a</td>\n",
       "      <td>204.0</td>\n",
       "      <td>Female</td>\n",
       "      <td>63.0</td>\n",
       "      <td>62.0</td>\n",
       "    </tr>\n",
       "  </tbody>\n",
       "</table>\n",
       "</div>"
      ],
      "text/plain": [
       "                               recordId                            healthCode  \\\n",
       "0  b141e6da-ba2a-4267-82a7-8484ec264afc  660c450e-456c-4835-8cad-3d8842492913   \n",
       "1  aa326e81-349d-4c95-9c15-4cf78fbda5eb  b04ae29d-7c3e-49fb-951b-69a6bead8ad9   \n",
       "2  6056f89a-9827-4a28-b67c-fad59b97f793  bfdf60c0-c322-47f0-8a47-a52c7dc50ab9   \n",
       "3  66aed6d3-f6e4-4ec0-be76-eed94d6db501  32ee6b1e-e3c9-48f2-b4e4-1d29ca134ce6   \n",
       "4  1da48794-aefb-44a4-84da-e0cbafcff92a  552417f4-a4aa-4004-b1a7-0e97ac3b316a   \n",
       "\n",
       "   weight     sex  height  currentAge  \n",
       "0   200.0    Male    75.0        67.0  \n",
       "1   209.0    Male    76.0        66.0  \n",
       "2    92.0    Male    73.0        34.0  \n",
       "3   123.0  Female    67.0        30.0  \n",
       "4   204.0  Female    63.0        62.0  "
      ]
     },
     "execution_count": 1,
     "metadata": {},
     "output_type": "execute_result"
    }
   ],
   "source": [
    "import pandas as pd\n",
    "import math\n",
    "import numpy as np\n",
    "import seaborn as sns\n",
    "import matplotlib.pyplot as plt\n",
    "sns.set()\n",
    "\n",
    "file = \"data/demographics.csv\"\n",
    "csv = pd.read_csv(file, low_memory=False)\n",
    "\n",
    "# Version numbers are meaningless\n",
    "sixminutev4 = pd.read_csv('data/6minutewalkV4-V2.csv') # table \n",
    "sixminutev6 = pd.read_csv('data/6minutewalkV4-V6.csv')\n",
    "sixminutev1 = pd.read_csv('data/6minutewalkV4-V1.csv') # table\n",
    "sixminutev2 = pd.read_csv('data/6minutewalkV2.csv')\n",
    "cvhealth = pd.read_csv('data/CVHealth.csv')\n",
    "\n",
    "csv.drop(columns=['ROW_ID', 'ROW_VERSION', 'appVersion', 'phoneInfo', 'dataGroups', 'uploadDate', 'createdOn', \n",
    "                  'validationErrors', 'userSharingScope', 'NonIdentifiableDemographics.json.patientGoSleepTime', \n",
    "                  'NonIdentifiableDemographics.patientGoSleepTime', 'createdOnTimeZone',\n",
    "                 'NonIdentifiableDemographics.json.patientWakeUpTime', 'NonIdentifiableDemographics.patientWakeUpTime'\n",
    "                 , 'externalId'], \n",
    "         inplace=True)\n",
    "csv.rename(columns={'NonIdentifiableDemographics.json.patientWeightPounds': 'weight', 'NonIdentifiableDemographics.patientWeightPounds': 'weight2', \n",
    "                    'NonIdentifiableDemographics.json.patientBiologicalSex': 'sex', \n",
    "                    'NonIdentifiableDemographics.patientBiologicalSex': 'sex2',\n",
    "                   'NonIdentifiableDemographics.json.patientHeightInches': 'height',\n",
    "                   'NonIdentifiableDemographics.patientHeightInches': 'height2',\n",
    "                   'NonIdentifiableDemographics.json.patientCurrentAge': 'currentAge',\n",
    "                   'NonIdentifiableDemographics.patientCurrentAge': 'currentAge2'}, inplace=True)\n",
    "\n",
    "# drop the test version\n",
    "csv = csv.iloc[7:]\n",
    "csv.index = range(44804)\n",
    "csv.dropna(how='all', subset=['currentAge','currentAge2'], inplace=True)\n",
    "csv.dropna(how='all', subset=['weight', 'weight2'], inplace=True)\n",
    "csv.dropna(how='all', subset=['sex', 'sex2'], inplace=True)\n",
    "csv.dropna(how='all', subset=['height', 'height2'], inplace=True)\n",
    "\n",
    "csv['currentAge'] = csv['currentAge'].fillna(csv['currentAge2'])\n",
    "csv['weight'] = csv['weight'].fillna(csv['weight2'])\n",
    "csv['height'] = csv['height'].fillna(csv['height2'])\n",
    "csv['sex'] = csv['sex'].fillna(csv['sex2'])\n",
    "csv = csv.drop('currentAge2',1)\n",
    "csv = csv.drop('weight2',1)\n",
    "csv = csv.drop('height2',1)\n",
    "csv = csv.drop('sex2',1)\n",
    "\n",
    "# Dropping the duplicate healthCode records... Don't know if this is the right thing to do but can easily be reversed\n",
    "csv = csv.drop_duplicates(subset='healthCode', keep='last', inplace=False)\n",
    "\n",
    "# Dropping the rows with 0 for any metric. This was not caught with the NaN cleaning/merging \n",
    "csv = csv[csv.currentAge != 0]\n",
    "csv = csv[csv.weight != 0]\n",
    "csv = csv[csv.height != 0]\n",
    "\n",
    "sixminutev4.drop(columns=['phoneInfo', 'appVersion', 'dataGroups', 'externalId', 'phoneInfo', 'ROW_VERSION', \n",
    "                             'ROW_ID', 'deviceMotion_fitness.rest.items', \n",
    "                             'heartRate_fitness.rest.items', 'userSharingScope',\n",
    "                            'pedometer_fitness.walk.items', 'accel_fitness_walk.json.items',\n",
    "                            'deviceMotion_fitness.walk.items', 'heartRate_fitness.walk.items',\n",
    "                            'accel_fitness_rest.json.items', 'createdOnTimeZone', 'recordId',\n",
    "                            'uploadDate', 'validationErrors', 'createdOn', 'measurementSystem.measurementSystem',\n",
    "                            'measurementSystem.deviceRegion'], inplace=True)\n",
    "sixminutev6.drop(columns=['recordId', 'appVersion', 'externalId', 'dataGroups', 'createdOn', 'phoneInfo', \n",
    "                             'restingEnergyBurned_fitness.rest', 'restingEnergyBurned_fitness.walk', 'activeEnergyBurned_fitness.rest', \n",
    "                             'activeEnergyBurned_fitness.walk', 'measurementSystem.deviceRegion', 'measurementSystem.measurementSystem', \n",
    "                             'heartRate_fitness.rest', 'ROW_ID', 'ROW_VERSION', 'uploadDate',\n",
    "                            'validationErrors', 'userSharingScope', 'accel_fitness_walk.json',\n",
    "                            'deviceMotion_fitness.walk', 'userSharingScope','createdOnTimeZone',\n",
    "                            'heartRate_fitness.walk', 'pedometer_fitness.walk', 'deviceMotion_fitness.rest',\n",
    "                            'accel_fitness_rest.json'], inplace=True)\n",
    "\n",
    "sixminutev1.drop(columns=['ROW_ID', 'ROW_VERSION', 'recordId', 'appVersion', 'uploadDate', 'phoneInfo',\n",
    "                         'externalId', 'dataGroups', 'createdOn', 'createdOnTimeZone', 'userSharingScope',\n",
    "                         'validationErrors', 'pedometer_fitness.walk.items', 'accel_fitness_walk.json.items',\n",
    "                         'deviceMotion_fitness.walk.items', 'HKQuantityTypeIdentifierHeartRate_fitness.walk.items',\n",
    "                         'accel_fitness_rest.json.items', 'deviceMotion_fitness.rest.items',\n",
    "                         'HKQuantityTypeIdentifierHeartRate_fitness.rest.items', 'measurementSystem.measurementSystem',\n",
    "                         'measurementSystem.deviceRegion'], inplace=True)\n",
    "\n",
    "sixminutev2.drop(columns=['ROW_ID', 'ROW_VERSION', 'recordId', 'appVersion', 'uploadDate', 'phoneInfo', 'createdOn', \n",
    "                          'pedometer_fitness.walk.items', 'accel_fitness_walk.json.items', 'deviceMotion_fitness.walk.items', \n",
    "                         'HKQuantityTypeIdentifierHeartRate_fitness.walk.items', 'accel_fitness_rest.json.items',\n",
    "                         'deviceMotion_fitness.rest.items', 'HKQuantityTypeIdentifierHeartRate_fitness.rest.items',\n",
    "                         'externalId', 'dataGroups'], inplace=True)\n",
    "\n",
    "sixminutewalktotal = pd.concat([sixminutev4, sixminutev6])\n",
    "# Re-index to represent the actual length of the series\n",
    "sixminutewalktotal.index = range(3373)\n",
    "#csv\n",
    "csv = csv[csv['healthCode'].isin(sixminutewalktotal['healthCode'])]\n",
    "# Re-index \n",
    "csv.index = range(994)\n",
    "cvhealth.drop(columns=['ROW_ID', 'ROW_VERSION', 'recordId', 'appVersion', 'phoneInfo', 'uploadDate', \n",
    "                             'externalId', 'dataGroups', 'createdOn', \n",
    "                             'createdOnTimeZone', 'userSharingScope', 'validationErrors', \n",
    "                             'family_history', 'medications_to_treat', 'vascular', 'ethnicity',\n",
    "                            'race', 'education'], inplace=True)\n",
    "\n",
    "csv = csv[csv['healthCode'].isin(cvhealth['healthCode'])]\n",
    "# Re-index after dropping those without CVD data\n",
    "csv.index = range(851)\n",
    "healthCodeTotal = csv[\"healthCode\"].values\n",
    "\n",
    "v4 = csv[csv['healthCode'].isin(sixminutev4['healthCode'])]\n",
    "v6 = csv[csv['healthCode'].isin(sixminutev6['healthCode'])]\n",
    "v2 = csv[csv['healthCode'].isin(sixminutev2['healthCode'])]\n",
    "v1 = csv[csv['healthCode'].isin(sixminutev1['healthCode'])]\n",
    "\n",
    "v4 = np.asarray(v4['healthCode'].values)\n",
    "v2 = np.asarray(v2['healthCode'].values)\n",
    "v1 = np.asarray(v1['healthCode'].values)\n",
    "v6 = np.asarray(v6['healthCode'].values)\n",
    "sixminutetotalhc = np.concatenate((v4, v2, v1, v6))\n",
    "csv.head()"
   ]
  },
  {
   "cell_type": "markdown",
   "metadata": {},
   "source": [
    "# Sparsity Check"
   ]
  },
  {
   "cell_type": "code",
   "execution_count": 30,
   "metadata": {
    "collapsed": true
   },
   "outputs": [],
   "source": [
    "import os\n",
    "import pandas as pd\n",
    "# change this depending on data directory\n",
    "directory_in_str = '/scratch/PI/euan/projects/mhc/data/6mwt/accel_walk_dir'\n",
    "directory = os.fsencode(directory_in_str)\n",
    "\n",
    "# number of gaps in a given 6MWT that surpasses the threshold \n",
    "def find_gaps(directory):\n",
    "    '''\n",
    "    Finds the number of gaps over 0.01 seconds and adds a gap if the difference between last and first timestamp is \n",
    "    less than 6 minutes\n",
    "    Checking the length of the dict returned will show whether the amount of files matches the intersection of \n",
    "    6mwt table and demographics\n",
    "    '''\n",
    "    hc_gaps = dict()\n",
    "    for subdir, dirs, files in os.walk(directory):\n",
    "        # make in [list] a parameter of the function -- remember to change \"in [list]\" to the correct list\n",
    "        if subdir.decode()[subdir.decode().rfind('/')+1:] in v6:\n",
    "            # Makes sure we only get one file per healthCode\n",
    "            i = 0\n",
    "            for file in files:\n",
    "                while (i < 1):\n",
    "                    a_df = pd.read_json(os.path.join(subdir.decode(), file.decode())).set_index('timestamp')\n",
    "                    inst = list(a_df.index[1:]-a_df.index[:-1] > .02).count(True)\n",
    "                    # This line checks for incomplete 6MWT\n",
    "                    if (a_df.index[-1] - a_df.index[0]) < 358:\n",
    "                        inst = inst + 1\n",
    "                    hc_gaps.update({subdir.decode()[subdir.decode().rfind('/')+1:]: inst})\n",
    "                    i += 1\n",
    "                \n",
    "    return hc_gaps\n",
    "\n",
    "\n"
   ]
  },
  {
   "cell_type": "markdown",
   "metadata": {},
   "source": [
    "# 6MWT Total Sample Check\n",
    "\n",
    "### healthCodes of interest/associated synapse table:\n",
    "\n",
    "1. cab9f4ee-54e0-4b08-8eba-3b48085bd142 (v4-v1)\n",
    "2. 33f22bad-4570-43bb-bf68-263e6865ef76 (v4-v1)\n",
    "3. ff489c8a-f5ff-4f00-9682-33c44df02621 (v4-v2)\n",
    "4. 6fd3148e-f490-417a-9da8-a31d947e7aed (v4-v1)\n",
    "5. bb6613c1-5b48-4744-a5f5-2387149da94d (v4-v2)\n",
    "6. 43dcb6b4-24a9-4b71-bc9f-eef87e8adadb (v4-v2)\n",
    "7. fe1e5f81-ed68-4c45-b1a7-3a7443d5ae76 (v4-v2)\n",
    "8. 047b75f9-2778-4068-bc30-d47e8ea0780e (v4-v1)\n",
    "9. c6a9c011-defc-48a9-bd74-de6d3a72d2bd (v4-v2)\n",
    "10. e30dae44-8b7e-41a5-98e5-3f8abba35352 (v4-v1)"
   ]
  },
  {
   "cell_type": "code",
   "execution_count": 86,
   "metadata": {
    "collapsed": true
   },
   "outputs": [],
   "source": [
    "# hc_filenum is the dictionary which stores the healthCode and num of files associated with that healthCode\n",
    "\n",
    "# num_of_files is just a list to count number of instances of certain number of files (Are there 0 files, 1 file...?)\n",
    "\n",
    "directory_in_str = '/scratch/PI/euan/projects/mhc/data/6mwt/accel_walk_dir'\n",
    "directory = os.fsencode(directory_in_str)\n",
    "hc_filenum = dict()\n",
    "for subdir, dirs, files in os.walk(directory):\n",
    "    i = 0\n",
    "    for file in files:\n",
    "        i += 1\n",
    "    hc_filenum.update({subdir.decode()[subdir.decode().rfind('/') + 1:]: i})\n",
    "\n",
    "\n",
    "num_of_files = []\n",
    "for k, v in test.items():\n",
    "        num_of_files.append(v)"
   ]
  },
  {
   "cell_type": "code",
   "execution_count": 87,
   "metadata": {},
   "outputs": [
    {
     "name": "stdout",
     "output_type": "stream",
     "text": [
      "2291\n",
      "8129\n"
     ]
    }
   ],
   "source": [
    "print(num_of_files.count(0))\n",
    "print(len(hc_filenum))"
   ]
  },
  {
   "cell_type": "code",
   "execution_count": 80,
   "metadata": {},
   "outputs": [
    {
     "name": "stderr",
     "output_type": "stream",
     "text": [
      "/home/users/bhargavy/.local/lib/python3.6/site-packages/matplotlib/axes/_axes.py:6462: UserWarning: The 'normed' kwarg is deprecated, and has been replaced by the 'density' kwarg.\n",
      "  warnings.warn(\"The 'normed' kwarg is deprecated, and has been \"\n"
     ]
    },
    {
     "data": {
      "text/plain": [
       "<matplotlib.axes._subplots.AxesSubplot at 0x7fccb3533b38>"
      ]
     },
     "execution_count": 80,
     "metadata": {},
     "output_type": "execute_result"
    },
    {
     "data": {
      "image/png": "[encoded data removed]",
      "text/plain": [
       "<Figure size 432x288 with 1 Axes>"
      ]
     },
     "metadata": {},
     "output_type": "display_data"
    }
   ],
   "source": [
    "%matplotlib inline\n",
    "sns.distplot(num_of_files, kde=False, rug=False)"
   ]
  },
  {
   "cell_type": "code",
   "execution_count": 188,
   "metadata": {},
   "outputs": [
    {
     "name": "stderr",
     "output_type": "stream",
     "text": [
      "/home/users/bhargavy/.local/lib/python3.6/site-packages/matplotlib/axes/_axes.py:6462: UserWarning: The 'normed' kwarg is deprecated, and has been replaced by the 'density' kwarg.\n",
      "  warnings.warn(\"The 'normed' kwarg is deprecated, and has been \"\n"
     ]
    },
    {
     "ename": "TypeError",
     "evalue": "'<' not supported between instances of 'dict' and 'float'",
     "output_type": "error",
     "traceback": [
      "\u001b[0;31m---------------------------------------------------------------------------\u001b[0m",
      "\u001b[0;31mTypeError\u001b[0m                                 Traceback (most recent call last)",
      "\u001b[0;32m<ipython-input-188-92250dfb1b8a>\u001b[0m in \u001b[0;36m<module>\u001b[0;34m()\u001b[0m\n\u001b[1;32m      9\u001b[0m \u001b[0;31m# Set y-axis label\u001b[0m\u001b[0;34m\u001b[0m\u001b[0;34m\u001b[0m\u001b[0m\n\u001b[1;32m     10\u001b[0m \u001b[0mplt\u001b[0m\u001b[0;34m.\u001b[0m\u001b[0mylabel\u001b[0m\u001b[0;34m(\u001b[0m\u001b[0;34m'Number of 6MWT Runs'\u001b[0m\u001b[0;34m)\u001b[0m\u001b[0;34m\u001b[0m\u001b[0m\n\u001b[0;32m---> 11\u001b[0;31m \u001b[0msns\u001b[0m\u001b[0;34m.\u001b[0m\u001b[0mdistplot\u001b[0m\u001b[0;34m(\u001b[0m\u001b[0mv4_onlydict\u001b[0m\u001b[0;34m,\u001b[0m \u001b[0mbins\u001b[0m\u001b[0;34m=\u001b[0m\u001b[0;36m400\u001b[0m\u001b[0;34m,\u001b[0m \u001b[0mkde\u001b[0m\u001b[0;34m=\u001b[0m\u001b[0;32mFalse\u001b[0m\u001b[0;34m,\u001b[0m \u001b[0mrug\u001b[0m\u001b[0;34m=\u001b[0m\u001b[0;32mFalse\u001b[0m\u001b[0;34m,\u001b[0m \u001b[0mcolor\u001b[0m\u001b[0;34m=\u001b[0m\u001b[0;34m'purple'\u001b[0m\u001b[0;34m)\u001b[0m\u001b[0;34m\u001b[0m\u001b[0m\n\u001b[0m",
      "\u001b[0;32m~/.local/lib/python3.6/site-packages/seaborn/distributions.py\u001b[0m in \u001b[0;36mdistplot\u001b[0;34m(a, bins, hist, kde, rug, fit, hist_kws, kde_kws, rug_kws, fit_kws, color, vertical, norm_hist, axlabel, label, ax)\u001b[0m\n\u001b[1;32m    216\u001b[0m         \u001b[0mhist_color\u001b[0m \u001b[0;34m=\u001b[0m \u001b[0mhist_kws\u001b[0m\u001b[0;34m.\u001b[0m\u001b[0mpop\u001b[0m\u001b[0;34m(\u001b[0m\u001b[0;34m\"color\"\u001b[0m\u001b[0;34m,\u001b[0m \u001b[0mcolor\u001b[0m\u001b[0;34m)\u001b[0m\u001b[0;34m\u001b[0m\u001b[0m\n\u001b[1;32m    217\u001b[0m         ax.hist(a, bins, orientation=orientation,\n\u001b[0;32m--> 218\u001b[0;31m                 color=hist_color, **hist_kws)\n\u001b[0m\u001b[1;32m    219\u001b[0m         \u001b[0;32mif\u001b[0m \u001b[0mhist_color\u001b[0m \u001b[0;34m!=\u001b[0m \u001b[0mcolor\u001b[0m\u001b[0;34m:\u001b[0m\u001b[0;34m\u001b[0m\u001b[0m\n\u001b[1;32m    220\u001b[0m             \u001b[0mhist_kws\u001b[0m\u001b[0;34m[\u001b[0m\u001b[0;34m\"color\"\u001b[0m\u001b[0;34m]\u001b[0m \u001b[0;34m=\u001b[0m \u001b[0mhist_color\u001b[0m\u001b[0;34m\u001b[0m\u001b[0m\n",
      "\u001b[0;32m~/.local/lib/python3.6/site-packages/matplotlib/__init__.py\u001b[0m in \u001b[0;36minner\u001b[0;34m(ax, *args, **kwargs)\u001b[0m\n\u001b[1;32m   1853\u001b[0m                         \u001b[0;34m\"the Matplotlib list!)\"\u001b[0m \u001b[0;34m%\u001b[0m \u001b[0;34m(\u001b[0m\u001b[0mlabel_namer\u001b[0m\u001b[0;34m,\u001b[0m \u001b[0mfunc\u001b[0m\u001b[0;34m.\u001b[0m\u001b[0m__name__\u001b[0m\u001b[0;34m)\u001b[0m\u001b[0;34m,\u001b[0m\u001b[0;34m\u001b[0m\u001b[0m\n\u001b[1;32m   1854\u001b[0m                         RuntimeWarning, stacklevel=2)\n\u001b[0;32m-> 1855\u001b[0;31m             \u001b[0;32mreturn\u001b[0m \u001b[0mfunc\u001b[0m\u001b[0;34m(\u001b[0m\u001b[0max\u001b[0m\u001b[0;34m,\u001b[0m \u001b[0;34m*\u001b[0m\u001b[0margs\u001b[0m\u001b[0;34m,\u001b[0m \u001b[0;34m**\u001b[0m\u001b[0mkwargs\u001b[0m\u001b[0;34m)\u001b[0m\u001b[0;34m\u001b[0m\u001b[0m\n\u001b[0m\u001b[1;32m   1856\u001b[0m \u001b[0;34m\u001b[0m\u001b[0m\n\u001b[1;32m   1857\u001b[0m         inner.__doc__ = _add_data_doc(inner.__doc__,\n",
      "\u001b[0;32m~/.local/lib/python3.6/site-packages/matplotlib/axes/_axes.py\u001b[0m in \u001b[0;36mhist\u001b[0;34m(***failed resolving arguments***)\u001b[0m\n\u001b[1;32m   6512\u001b[0m             \u001b[0;32mfor\u001b[0m \u001b[0mxi\u001b[0m \u001b[0;32min\u001b[0m \u001b[0mx\u001b[0m\u001b[0;34m:\u001b[0m\u001b[0;34m\u001b[0m\u001b[0m\n\u001b[1;32m   6513\u001b[0m                 \u001b[0;32mif\u001b[0m \u001b[0mlen\u001b[0m\u001b[0;34m(\u001b[0m\u001b[0mxi\u001b[0m\u001b[0;34m)\u001b[0m \u001b[0;34m>\u001b[0m \u001b[0;36m0\u001b[0m\u001b[0;34m:\u001b[0m\u001b[0;34m\u001b[0m\u001b[0m\n\u001b[0;32m-> 6514\u001b[0;31m                     \u001b[0mxmin\u001b[0m \u001b[0;34m=\u001b[0m \u001b[0mmin\u001b[0m\u001b[0;34m(\u001b[0m\u001b[0mxmin\u001b[0m\u001b[0;34m,\u001b[0m \u001b[0mxi\u001b[0m\u001b[0;34m.\u001b[0m\u001b[0mmin\u001b[0m\u001b[0;34m(\u001b[0m\u001b[0;34m)\u001b[0m\u001b[0;34m)\u001b[0m\u001b[0;34m\u001b[0m\u001b[0m\n\u001b[0m\u001b[1;32m   6515\u001b[0m                     \u001b[0mxmax\u001b[0m \u001b[0;34m=\u001b[0m \u001b[0mmax\u001b[0m\u001b[0;34m(\u001b[0m\u001b[0mxmax\u001b[0m\u001b[0;34m,\u001b[0m \u001b[0mxi\u001b[0m\u001b[0;34m.\u001b[0m\u001b[0mmax\u001b[0m\u001b[0;34m(\u001b[0m\u001b[0;34m)\u001b[0m\u001b[0;34m)\u001b[0m\u001b[0;34m\u001b[0m\u001b[0m\n\u001b[1;32m   6516\u001b[0m             \u001b[0mbin_range\u001b[0m \u001b[0;34m=\u001b[0m \u001b[0;34m(\u001b[0m\u001b[0mxmin\u001b[0m\u001b[0;34m,\u001b[0m \u001b[0mxmax\u001b[0m\u001b[0;34m)\u001b[0m\u001b[0;34m\u001b[0m\u001b[0m\n",
      "\u001b[0;31mTypeError\u001b[0m: '<' not supported between instances of 'dict' and 'float'"
     ]
    },
    {
     "data": {
      "image/png": "[encoded data removed]",
      "text/plain": [
       "<Figure size 432x288 with 1 Axes>"
      ]
     },
     "metadata": {},
     "output_type": "display_data"
    }
   ],
   "source": [
    "import matplotlib.pyplot as plt\n",
    "import seaborn as sns\n",
    "sns.set()\n",
    "%matplotlib inline\n",
    "\n",
    "plt.title('Sparsity 6MWT Plot (V4 Only)')\n",
    "# Set x-axis label\n",
    "plt.xlabel('Number of Gaps')\n",
    "# Set y-axis label\n",
    "plt.ylabel('Number of 6MWT Runs')\n",
    "sns.distplot(v4_onlydict, bins=400, kde=False, rug=False, color='purple')\n"
   ]
  },
  {
   "cell_type": "code",
   "execution_count": 95,
   "metadata": {},
   "outputs": [
    {
     "name": "stderr",
     "output_type": "stream",
     "text": [
      "/home/users/bhargavy/.local/lib/python3.6/site-packages/matplotlib/axes/_axes.py:6462: UserWarning: The 'normed' kwarg is deprecated, and has been replaced by the 'density' kwarg.\n",
      "  warnings.warn(\"The 'normed' kwarg is deprecated, and has been \"\n"
     ]
    },
    {
     "data": {
      "text/plain": [
       "285"
      ]
     },
     "execution_count": 95,
     "metadata": {},
     "output_type": "execute_result"
    },
    {
     "data": {
      "image/png": "[encoded data removed]",
      "text/plain": [
       "<Figure size 921.6x633.6 with 1 Axes>"
      ]
     },
     "metadata": {},
     "output_type": "display_data"
    }
   ],
   "source": [
    "plt.title('Sparsity 6MWT Plot')\n",
    "# Set x-axis label\n",
    "plt.xlabel('Number of Gaps')\n",
    "# Set y-axis label\n",
    "plt.ylabel('Number of 6MWT Runs')\n",
    "sns.distplot(v4_only, kde=False, rug=False, color='purple')"
   ]
  },
  {
   "cell_type": "code",
   "execution_count": 23,
   "metadata": {
    "collapsed": true
   },
   "outputs": [],
   "source": [
    "import pickle\n",
    "\n",
    "# Save our gaps list so that we don't have to re-run\n",
    "with open(\"gaps.txt\", \"wb\") as fp:\n",
    "    pickle.dump(instances, fp)"
   ]
  },
  {
   "cell_type": "code",
   "execution_count": 25,
   "metadata": {},
   "outputs": [
    {
     "data": {
      "text/plain": [
       "8269"
      ]
     },
     "execution_count": 25,
     "metadata": {},
     "output_type": "execute_result"
    }
   ],
   "source": [
    "# This is so that we can re-open our gaps list\n",
    "with open(\"gaps.txt\", \"rb\") as fp:   # Unpickling\n",
    "    b = pickle.load(fp)"
   ]
  },
  {
   "cell_type": "code",
   "execution_count": 62,
   "metadata": {
    "scrolled": true
   },
   "outputs": [
    {
     "name": "stderr",
     "output_type": "stream",
     "text": [
      "/home/users/bhargavy/.local/lib/python3.6/site-packages/matplotlib/axes/_axes.py:6462: UserWarning: The 'normed' kwarg is deprecated, and has been replaced by the 'density' kwarg.\n",
      "  warnings.warn(\"The 'normed' kwarg is deprecated, and has been \"\n"
     ]
    },
    {
     "data": {
      "text/plain": [
       "<matplotlib.axes._subplots.AxesSubplot at 0x7fafb00c6da0>"
      ]
     },
     "execution_count": 62,
     "metadata": {},
     "output_type": "execute_result"
    },
    {
     "data": {
      "image/png": "[encoded data removed]",
      "text/plain": [
       "<Figure size 921.6x633.6 with 1 Axes>"
      ]
     },
     "metadata": {},
     "output_type": "display_data"
    }
   ],
   "source": [
    "import seaborn as sns \n",
    "import matplotlib.pyplot as plt\n",
    "sns.set()\n",
    "%matplotlib inline\n",
    "plt.style.use('seaborn-poster')\n",
    "plt.title('Sparsity 6MWT Plot')\n",
    "# Set x-axis label\n",
    "plt.xlabel('Number of Gaps')\n",
    "# Set y-axis label\n",
    "plt.ylabel('Number of 6MWT Runs')\n",
    "\n",
    "sns.distplot(instances, bins=5000, kde=False, rug=False, color='red')"
   ]
  },
  {
   "cell_type": "markdown",
   "metadata": {},
   "source": [
    "# Feature Generation - 30 features\n",
    "### Fix for the new dataframe format"
   ]
  },
  {
   "cell_type": "code",
   "execution_count": 2,
   "metadata": {
    "collapsed": true
   },
   "outputs": [],
   "source": [
    "import numpy as np\n",
    "import peakutils\n",
    "from numpy import linalg as LA\n",
    "from scipy.fftpack import fft, ifft\n",
    "import matplotlib.pyplot as plt\n",
    "import seaborn as sns\n",
    "%matplotlib inline\n",
    "sns.set()\n",
    "\n",
    "# Mean - 6 features\n",
    "def get_time_mean(x_, y_, z_):\n",
    "    mux_t = np.mean(x_, axis=1)\n",
    "    muy_t = np.mean(y_, axis=1)\n",
    "    muz_t = np.mean(z_, axis=1)\n",
    "    return (mux_t, muy_t, muz_t)\n",
    "\n",
    "def get_freq_mean(x_, y_, z_):\n",
    "    mux_f = np.mean(np.absolute(fft(x_)), axis=1)\n",
    "    muy_f = np.mean(np.absolute(fft(y_)), axis=1)\n",
    "    muz_f = np.mean(np.absolute(fft(z_)), axis=1)\n",
    "    return (mux_f, muy_f, muz_f)\n",
    "\n",
    "# Median - 6 features\n",
    "def get_time_median(x_, y_, z_):\n",
    "    medx_t = np.median(x_, axis=1)\n",
    "    medy_t = np.median(y_, axis=1)\n",
    "    medz_t = np.median(z_, axis=1)\n",
    "    return (medx_t, medy_t, medz_t)\n",
    "\n",
    "def get_freq_median(x_, y_, z_):\n",
    "    medx_f = np.median(np.absolute(fft(x_)), axis=1)\n",
    "    medy_f = np.median(np.absolute(fft(y_)), axis=1)\n",
    "    medz_f = np.median(np.absolute(fft(z_)), axis=1)\n",
    "    return (medx_f, medy_f, medz_f)\n",
    "\n",
    "# Magnitude - 6 features\n",
    "\n",
    "# Don't really need magnitude since we already have 5 features from magnitude alone\n",
    "#magx_t = (LA.norm(accelx_, axis=1) / 200)\n",
    "#magy_t = (LA.norm(accely_, axis=1) / 200)\n",
    "#magz_t = (LA.norm(accelz_, axis=1) / 200)\n",
    "\n",
    "#magx_f = (LA.norm(fft(accelx_), axis=1) / 200)\n",
    "#magy_f = (LA.norm(fft(accely_), axis=1) / 200)\n",
    "#magz_f = (LA.norm(fft(accelz_), axis=1) / 200)\n",
    "\n",
    "# Cross-correlation - 2 features\n",
    "\n",
    "def get_cross_corr(x_, y_, z_):\n",
    "    meanx = np.mean(x_, axis=1)\n",
    "    meany = np.mean(y_, axis=1)\n",
    "    meanz = np.mean(z_, axis=1)\n",
    "    corr_xz = meanx/meanz\n",
    "    corr_yz = meany/meanz\n",
    "    return (corr_xz, corr_yz)\n",
    "\n",
    "# Peak Count - 1 feature\n",
    "\n",
    "# Don't really need this since we get peak count from magnitude\n",
    "def peak_counter(accel_windows):\n",
    "    '''\n",
    "    This function counts the number of peaks in by window in each acceleration dimension using peakutils library\n",
    "    Below we are averaging peaks over each dimension, combining all axes, and re-averaging for a final feature\n",
    "    '''\n",
    "    peaks = []\n",
    "    for i in range(len(accel_windows)):\n",
    "        peaks.append(len(peakutils.indexes(accel_windows[i])))\n",
    "    return peaks\n",
    "\n",
    "#peaks_x = np.mean(peak_counter(accelx_))\n",
    "#peaks_y = np.mean(peak_counter(accely_))\n",
    "#peaks_z = np.mean(peak_counter(accelz_))\n",
    "#total = [peaks_x, peaks_y, peaks_z]\n",
    "#avg_peaks = np.mean(total)\n",
    "\n",
    "# Distance Between Peaks - 3 features\n",
    "\n",
    "# Don't really want this...\n",
    "def dist_peak(accel_windows):\n",
    "    # This is in seconds because timestamps are in seconds not ms\n",
    "    sec_per_index = 0.01\n",
    "    time_diffs = []\n",
    "    for i in range(len(accel_windows)):\n",
    "        peak_indices = peakutils.indexes(accel_windows[i])\n",
    "        # Finds difference between consecutive index values so that we can multiply by 0.01 seconds\n",
    "        dummy = [t - s for s, t in zip(peak_indices, peak_indices[1:])]\n",
    "        for j in range(len(dummy)):\n",
    "            time_diffs.append(dummy[j] * sec_per_index)\n",
    "    return time_diffs\n",
    "\n",
    "# Spectral Centroid - 3 features\n",
    "\n",
    "def spectral_centroid(x_, y_, z_):\n",
    "    accel_freqx = fft(x_)\n",
    "    accel_freqy = fft(y_)\n",
    "    accel_freqz = fft(z_)\n",
    "    centroids_x = []\n",
    "    centroids_y = []\n",
    "    centroids_z = []\n",
    "    for i in range(len(x_)):\n",
    "        sumx = 0\n",
    "        sumy = 0\n",
    "        sumz = 0\n",
    "        for j in range(len(x_[i])):\n",
    "            sumx += (x_[i][j] * accel_freqx[i][j] / 200)\n",
    "            sumy += (y_[i][j] * accel_freqy[i][j] / 200)\n",
    "            sumz += (z_[i][j] * accel_freqz[i][j] / 200)\n",
    "        centroids_x.append(sumx)\n",
    "        centroids_y.append(sumy)\n",
    "        centroids_z.append(sumz)\n",
    "    return (np.absolute(centroids_x), np.absolute(centroids_y), np.absolute(centroids_z))\n",
    "\n",
    "# Average Difference from the Mean - 3 features\n",
    "\n",
    "def average_dist_mean(x_, y_, z_, mux_t, muy_t, muz_t):\n",
    "    realx = []\n",
    "    realy = []\n",
    "    realz = []\n",
    "    dummyx = []\n",
    "    dummyy = []\n",
    "    dummyz = []\n",
    "    for i in range(len(x_)):\n",
    "        for j in range(len(x_[i])):\n",
    "            dummyx.append(abs(x_[i][j] - mux_t[i]))\n",
    "            dummyy.append(abs(y_[i][j] - muy_t[i]))\n",
    "            dummyz.append(abs(z_[i][j] - muz_t[i]))\n",
    "        realx.append(np.mean(dummyx))\n",
    "        realy.append(np.mean(dummyy))\n",
    "        realz.append(np.mean(dummyz))\n",
    "    return (realx, realy, realz)"
   ]
  },
  {
   "cell_type": "code",
   "execution_count": 3,
   "metadata": {
    "collapsed": true
   },
   "outputs": [],
   "source": [
    "import pandas as pd\n",
    "import numpy as np \n",
    "import matplotlib.pyplot as plt\n",
    "#from keras.models import Sequential\n",
    "import json, os\n",
    "from scipy.fftpack import fft, ifft\n",
    "import itertools as it\n",
    "import seaborn as sns\n",
    "sns.set()\n",
    "\n",
    "#directory_in_str = '/Users/bhargavyadavalli/Desktop/files'\n",
    "#directory = os.fsencode(directory_in_str)\n",
    "\n",
    "'''\n",
    "for file in os.listdir(directory):\n",
    "    filename = os.fsdecode(file)\n",
    "    print(filename[0:36])\n",
    "'''\n",
    "# The block above will print the file name without the '.json'\n",
    "\n",
    "\n",
    "def moving_window(accelx, length, step=1):\n",
    "    streams = it.tee(accelx, length)\n",
    "    return zip(*[it.islice(stream, i, None, step + 99) for stream, i in zip(streams, it.count(step=step))])\n",
    "\n",
    "def getTimestamp(fn):\n",
    "    timestamp = []\n",
    "    with open(fn) as f:\n",
    "        a = json.load(f)\n",
    "        for obj in a:\n",
    "            timestamp.append(obj['timestamp'])\n",
    "    return timestamp\n",
    "\n",
    "def getAccelX(fn):\n",
    "    accelx = []\n",
    "    with open(fn) as f:\n",
    "        a = json.load(f)\n",
    "        accelx = [obj['userAcceleration']['x'] for obj in a]\n",
    "    accelx_norm = [(sample - np.mean(accelx)) for sample in accelx]\n",
    "    for _ in range(200, len(accelx), 100):\n",
    "        accelx_window = list(moving_window(accelx_norm, 200))\n",
    "    accelx_window = np.asarray(accelx_window)\n",
    "    return (accelx, accelx_window, accelx_norm)\n",
    "\n",
    "def getAccelY(fn):\n",
    "    accely = []\n",
    "    with open(fn) as f:\n",
    "        a = json.load(f)\n",
    "        accely = [obj['y'] for obj in a]\n",
    "    accely_norm = [(sample - np.mean(accely)) for sample in accely]\n",
    "    for _ in range(200, len(accely), 100):\n",
    "        accely_window = list(moving_window(accely_norm, 200))\n",
    "    accelx_window = np.asarray(accely_window)\n",
    "    return (accely, accely_window, accely_norm)\n",
    "            \n",
    "def getAccelZ(fn):\n",
    "    accelz = []\n",
    "    with open(fn) as f:\n",
    "        a = json.load(f)\n",
    "        accelz = [obj['z'] for obj in a]\n",
    "    accelz_norm = [(sample - np.mean(accelz)) for sample in accelz]\n",
    "    for _ in range(200, len(accelz), 100):\n",
    "        accelz_window = list(moving_window(accelz_norm, 200))\n",
    "    accelz_window = np.asarray(accelz_window)\n",
    "    return (accelz, accelz_window, accelz_norm)\n",
    "\n",
    "\n",
    "def normalize_dataset(dataframe):\n",
    "    return (dataframe - dataframe.mean())\n",
    "\n",
    "# Show structure\n",
    "#print(accelx_)\n",
    "\n",
    "# Printing last element of first sub-list\n",
    "#print(accelx_[0][100])\n",
    "\n",
    "# Print middle element to show sliding window \n",
    "#print(accelx_[1][0])\n",
    "\n",
    "# Show same element in the dataframe\n",
    "#print(df.iloc[100])\n",
    "\n",
    "# Check to see if last sub-list is same length as the rest\n",
    "#print(len(accelx_))\n",
    "\n",
    "\n",
    "# Use this for timestamp analysis/6MWT completeness check:\n",
    "\n",
    "#df = pd.DataFrame({'x': getAccelX('/home/users/bhargavy/gait/data/test_accel_old2.json')[1], 'y': getAccelY('/home/users/bhargavy/gait/data/test_accel_old2.json')[1], \n",
    "#                'z': getAccelZ('/home/users/bhargavy/gait/data/test_accel_old2.json')[1]}, \n",
    "#                  columns=['x', 'y', 'z'])\n",
    "#df"
   ]
  },
  {
   "cell_type": "code",
   "execution_count": 10,
   "metadata": {
    "scrolled": true
   },
   "outputs": [],
   "source": [
    "new_demographics = filter_demographics(csv)"
   ]
  },
  {
   "cell_type": "code",
   "execution_count": 20,
   "metadata": {
    "collapsed": true
   },
   "outputs": [],
   "source": [
    "from heapq import nlargest\n",
    "from scipy.fftpack import fft\n",
    "import peakutils\n",
    "import matplotlib.pyplot as plt\n",
    "import pandas as pd\n",
    "import numpy as np\n",
    "from numpy import linalg as LA\n",
    "import itertools as it\n",
    "import os\n",
    "\n",
    "directory_in_str = '/scratch/PI/euan/projects/mhc/data/6mwt/accel_walk_dir'\n",
    "directory = os.fsencode(directory_in_str)\n",
    "\n",
    "def normalize_dataset(dataframe):\n",
    "    return (dataframe - dataframe.mean())\n",
    "\n",
    "def moving_window(accelx, length, step=1):\n",
    "    streams = it.tee(accelx, length)\n",
    "    return zip(*[it.islice(stream, i, None, step + 99) for stream, i in zip(streams, it.count(step=step))])\n",
    "\n",
    "# prior to calling any of these functions please verify that dataframe is normalized & sliding windows are present\n",
    "def fundamental_frequency(mag_):\n",
    "    fundamental_freqs = []\n",
    "    for mag_seg in mag_:\n",
    "        ft_seg = fft(mag_seg)\n",
    "        fundamental_freqs.append(LA.norm(np.mean(nlargest(3, ft_seg))))\n",
    "    return np.asarray(fundamental_freqs)\n",
    "\n",
    "def average_acceleration(mag_):\n",
    "    return [np.mean(x) for x in mag_]\n",
    "\n",
    "def peak_counter(mag_):\n",
    "    '''\n",
    "    This function counts the number of peaks in by window in each acceleration dimension using peakutils library\n",
    "    Below we are averaging peaks over each dimension, combining all axes, and re-averaging for a final feature\n",
    "    '''\n",
    "    peaks = []\n",
    "    for i in range(len(mag_)):\n",
    "        peaks.append(len(peakutils.indexes(mag_[i])))\n",
    "    return peaks\n",
    "\n",
    "\n",
    "def find_max(mag_):\n",
    "    maxes = [max(x) for x in mag_]\n",
    "    return maxes\n",
    "\n",
    "def find_min(mag_):\n",
    "    mins = [min(x) for x in mag_]\n",
    "    return mins\n",
    "\n",
    "def generate_features(healthcode, fn, merged_demographics):\n",
    "    '''\n",
    "    Applies normalization and sliding windows to the provided data file and \n",
    "    returns a dataframe with calculated features\n",
    "    '''\n",
    "    a_df = normalize_dataset(pd.read_json(fn).set_index('timestamp'))\n",
    "    a_df_norm = np.sqrt(np.square(a_df).sum(axis=1))\n",
    "    mag = np.asarray(a_df_norm)\n",
    "    mag_ = list(moving_window(mag, 200))\n",
    "    x = np.asarray(a_df.x)\n",
    "    y = np.asarray(a_df.y)\n",
    "    z = np.asarray(a_df.z)\n",
    "    x_ = list(moving_window(x, 200))\n",
    "    y_ = list(moving_window(y, 200))\n",
    "    z_ = list(moving_window(z, 200))\n",
    "    index = [healthcode for x in range(len(mag_))]\n",
    "    weight = [merged_demographics.loc[healthcode].weight for y in range(len(mag_))]\n",
    "    height = [merged_demographics.loc[healthcode].height for z in range(len(mag_))]\n",
    "    sex = [merged_demographics.loc[healthcode].sex for q in range(len(mag_))]\n",
    "    currentAge = [merged_demographics.loc[healthcode].currentAge for m in range(len(mag_))]\n",
    "    # Applied log transformation to the max feature\n",
    "    return pd.DataFrame({'healthCode': index, 'weight': weight, 'height': height, 'sex': sex, 'currentAge': currentAge, \n",
    "                         'fundamental_freq': fundamental_frequency(mag_), 'average_accel': average_acceleration(mag_), \n",
    "                         'peakcount': peak_counter(mag_), 'max': find_max(mag_), 'min': np.log(find_min(mag_)),\n",
    "                        'mut_x': get_time_mean(x_, y_, z_)[0], 'mut_y': get_time_mean(x_, y_, z_)[1], \n",
    "                        'mut_z': get_time_mean(x_, y_, z_)[2], 'muf_x': get_freq_mean(x_, y_, z_)[0],\n",
    "                        'muf_y': get_freq_mean(x_, y_, z_)[1], 'muf_z': get_freq_mean(x_, y_, z_)[2],\n",
    "                        'medt_x': get_time_median(x_, y_, z_)[0], 'medt_y': get_time_median(x_, y_, z_)[1],\n",
    "                        'medt_z': get_time_median(x_, y_, z_)[2], 'medf_x': get_freq_median(x_, y_, z_)[0],\n",
    "                        'medf_y': get_time_median(x_, y_, z_)[1], 'medf_z': get_freq_median(x_, y_, z_)[2],\n",
    "                        'cross_xz': get_cross_corr(x_, y_, z_)[0], 'cross_yz': get_cross_corr(x_, y_, z_)[1],\n",
    "                        'spect_cent_x': spectral_centroid(x_, y_, z_)[0], \n",
    "                        'spect_cent_y': spectral_centroid(x_, y_, z_)[1],\n",
    "                        'spect_cent_z': spectral_centroid(x_, y_, z_)[2],\n",
    "                        'average_dist_meanx': average_dist_mean(x_, y_, z_, np.mean(x_, axis=1), np.mean(y_, axis=1), np.mean(z_, axis=1))[0],\n",
    "                        'average_dist_meany': average_dist_mean(x_, y_, z_, np.mean(x_, axis=1), np.mean(y_, axis=1), np.mean(z_, axis=1))[1],\n",
    "                        'average_dist_meanz': average_dist_mean(x_, y_, z_, np.mean(x_, axis=1), np.mean(y_, axis=1), np.mean(z_, axis=1))[2]},\n",
    "                          columns=['healthCode', 'weight', 'height', 'sex', 'currentAge', 'fundamental_freq', \n",
    "                         'average_accel', 'peakcount', 'max', 'min', 'mut_x', 'mut_y', 'mut_z',\n",
    "                         'muf_x', 'muf_y', 'muf_z', 'medt_x', 'medt_y', 'medt_z', 'medf_x',\n",
    "                         'medf_y', 'medf_z', 'cross_xz', 'cross_yz', 'spect_cent_x', 'spect_cent_y',\n",
    "                         'spect_cent_z', 'average_dist_meanx', 'average_dist_meany', 'average_dist_meanz']).set_index('healthCode')\n",
    "\n",
    "\n"
   ]
  },
  {
   "cell_type": "code",
   "execution_count": 3,
   "metadata": {
    "collapsed": true
   },
   "outputs": [],
   "source": [
    "def filter_subjects(directory):\n",
    "    # creates dict with healthcodes and number of gaps from find_gaps function\n",
    "    new_dict = find_gaps(directory)\n",
    "    # filters dict to remove those entries with more than 2 gaps\n",
    "    filtered_new_dict = { k:v for k, v in new_dict.items() if v <= 2 }\n",
    "    healthcodes = []\n",
    "    for k, v in filtered_new_dict.items():\n",
    "        healthcodes.append(k)\n",
    "    return healthcodes"
   ]
  },
  {
   "cell_type": "code",
   "execution_count": 4,
   "metadata": {
    "collapsed": true
   },
   "outputs": [],
   "source": [
    "def create_frame(directory):\n",
    "    '''\n",
    "    Creates a final dataframe with all samples from valid healthcodes\n",
    "    This: subdir.decode()[subdir.decode().rfind('/')+1:] just gets the healthcode part of a directory \n",
    "    Function should be slow with large amounts of files due to the concat Pandas function\n",
    "    '''\n",
    "    healthcodes = filter_subjects(directory)\n",
    "    frames = []\n",
    "    for subdir, dirs, files in os.walk(directory):\n",
    "        if subdir.decode()[subdir.decode().rfind('/')+1:] in healthcodes:\n",
    "            i = 0\n",
    "            for file in files:\n",
    "                while (i < 1):\n",
    "                    # This line is generating our features dataframe with healthCode as first arg and filename as second arg\n",
    "                    frames.append(generate_features(subdir.decode()[subdir.decode().rfind('/')+1:], \n",
    "                                                    os.path.join(subdir.decode(), file.decode()), \n",
    "                                                    new_demographics))\n",
    "                    i += 1\n",
    "    return pd.concat(frames)\n",
    "\n"
   ]
  },
  {
   "cell_type": "code",
   "execution_count": 23,
   "metadata": {
    "collapsed": true,
    "scrolled": false
   },
   "outputs": [],
   "source": [
    "test_v4 = create_frame(directory)"
   ]
  },
  {
   "cell_type": "code",
   "execution_count": 25,
   "metadata": {
    "collapsed": true,
    "scrolled": true
   },
   "outputs": [],
   "source": [
    "test_v2 = create_frame(directory)"
   ]
  },
  {
   "cell_type": "code",
   "execution_count": 29,
   "metadata": {
    "collapsed": true
   },
   "outputs": [],
   "source": [
    "test_v1 = create_frame(directory)"
   ]
  },
  {
   "cell_type": "code",
   "execution_count": 31,
   "metadata": {
    "collapsed": true
   },
   "outputs": [],
   "source": [
    "test_v6 = create_frame(directory)"
   ]
  },
  {
   "cell_type": "code",
   "execution_count": 14,
   "metadata": {},
   "outputs": [
    {
     "ename": "NameError",
     "evalue": "name 'test_v4' is not defined",
     "output_type": "error",
     "traceback": [
      "\u001b[0;31m---------------------------------------------------------------------------\u001b[0m",
      "\u001b[0;31mNameError\u001b[0m                                 Traceback (most recent call last)",
      "\u001b[0;32m<ipython-input-14-723e42137c61>\u001b[0m in \u001b[0;36m<module>\u001b[0;34m()\u001b[0m\n\u001b[1;32m      1\u001b[0m \u001b[0;31m# This is all of the tables together removing any duplicate runs that might appear between tables\u001b[0m\u001b[0;34m\u001b[0m\u001b[0;34m\u001b[0m\u001b[0m\n\u001b[1;32m      2\u001b[0m \u001b[0;31m# At this point we have not reduced to minimum number of samples\u001b[0m\u001b[0;34m\u001b[0m\u001b[0;34m\u001b[0m\u001b[0m\n\u001b[0;32m----> 3\u001b[0;31m \u001b[0mnewtotal_df\u001b[0m \u001b[0;34m=\u001b[0m \u001b[0mpd\u001b[0m\u001b[0;34m.\u001b[0m\u001b[0mconcat\u001b[0m\u001b[0;34m(\u001b[0m\u001b[0;34m[\u001b[0m\u001b[0mtest_v4\u001b[0m\u001b[0;34m,\u001b[0m \u001b[0mtest_v2\u001b[0m\u001b[0;34m,\u001b[0m \u001b[0mtest_v1\u001b[0m\u001b[0;34m,\u001b[0m \u001b[0mtest_v6\u001b[0m\u001b[0;34m]\u001b[0m\u001b[0;34m)\u001b[0m\u001b[0;34m.\u001b[0m\u001b[0mdrop_duplicates\u001b[0m\u001b[0;34m(\u001b[0m\u001b[0;34m)\u001b[0m\u001b[0;34m\u001b[0m\u001b[0m\n\u001b[0m\u001b[1;32m      4\u001b[0m \u001b[0;34m\u001b[0m\u001b[0m\n\u001b[1;32m      5\u001b[0m \u001b[0mnewtotal_no_demog_df\u001b[0m \u001b[0;34m=\u001b[0m \u001b[0mnewtotal_df\u001b[0m\u001b[0;34m.\u001b[0m\u001b[0mdrop\u001b[0m\u001b[0;34m(\u001b[0m\u001b[0mcolumns\u001b[0m\u001b[0;34m=\u001b[0m\u001b[0;34m[\u001b[0m\u001b[0;34m'sex'\u001b[0m\u001b[0;34m,\u001b[0m \u001b[0;34m'currentAge'\u001b[0m\u001b[0;34m,\u001b[0m \u001b[0;34m'weight'\u001b[0m\u001b[0;34m,\u001b[0m \u001b[0;34m'height'\u001b[0m\u001b[0;34m]\u001b[0m\u001b[0;34m)\u001b[0m\u001b[0;34m\u001b[0m\u001b[0m\n",
      "\u001b[0;31mNameError\u001b[0m: name 'test_v4' is not defined"
     ]
    }
   ],
   "source": [
    "# This is all of the tables together removing any duplicate runs that might appear between tables\n",
    "# At this point we have not reduced to minimum number of samples \n",
    "newtotal_df = pd.concat([test_v4, test_v2, test_v1, test_v6]).drop_duplicates()"
   ]
  },
  {
   "cell_type": "code",
   "execution_count": 33,
   "metadata": {
    "scrolled": true
   },
   "outputs": [
    {
     "data": {
      "text/plain": [
       "175"
      ]
     },
     "execution_count": 33,
     "metadata": {},
     "output_type": "execute_result"
    }
   ],
   "source": [
    "len(list(set(newtotal_df.index)))"
   ]
  },
  {
   "cell_type": "code",
   "execution_count": 34,
   "metadata": {
    "collapsed": true
   },
   "outputs": [],
   "source": [
    "newtotal_df.to_hdf('newtotal_df.h5', key='df', mode='w')"
   ]
  },
  {
   "cell_type": "code",
   "execution_count": 8,
   "metadata": {
    "collapsed": true
   },
   "outputs": [],
   "source": [
    "newtotal_df  = pd.read_hdf('newtotal_df.h5', 'df')"
   ]
  },
  {
   "cell_type": "code",
   "execution_count": 11,
   "metadata": {
    "collapsed": true
   },
   "outputs": [],
   "source": [
    "def filter_demographics(demographics):\n",
    "    merged = pd.DataFrame()\n",
    "    indexlist = list(csv.healthCode)\n",
    "    for e in list(set(newtotal_df.index)):\n",
    "        if e in indexlist:\n",
    "            merged = merged.append(csv.loc[csv['healthCode'] == e])\n",
    "    merged = merged.drop(['recordId'], axis=1)\n",
    "    merged = merged.set_index('healthCode')\n",
    "    return merged\n",
    "\n",
    "def find_lowest_num_samples(total_df):\n",
    "    '''\n",
    "    This function finds the minimum number of samples from all of the runs present so that we keep same dimensions\n",
    "    for every run that we have\n",
    "    '''\n",
    "    total = [len(total_df.loc[x].average_accel) for x in list(set(total_df.index))]\n",
    "    return min(total)\n",
    "\n",
    "def min_df(lowest_num_of_samples, total_df):\n",
    "    '''\n",
    "    Returns the dataframe with features for every healthCode present so that there are only the minimum amount of \n",
    "    samples needed\n",
    "    '''\n",
    "    newdf = pd.DataFrame()\n",
    "    unique_healthcodes = list(set(total_df.index))\n",
    "    for elem in unique_healthcodes:\n",
    "        newdf = newdf.append(total_df.loc[elem].iloc[:lowest_num_of_samples])\n",
    "    return newdf"
   ]
  },
  {
   "cell_type": "code",
   "execution_count": 21,
   "metadata": {
    "collapsed": true
   },
   "outputs": [],
   "source": [
    "# number of unique hc is 175\n",
    "# testing contains a uniform number of samples for every 6 minute walk test\n",
    "everything = min_df(find_lowest_num_samples(newtotal_df), newtotal_df)\n",
    "# Filter out the outlier weights\n",
    "\n",
    "# Now the number of unique healthCodes should actually be 173 (one 6MWT per healthCode)"
   ]
  },
  {
   "cell_type": "code",
   "execution_count": 25,
   "metadata": {
    "scrolled": true
   },
   "outputs": [],
   "source": [
    "everything = everything[everything.weight < 400]\n",
    "everything = everything[everything.weight > 80]\n",
    "\n",
    "# this dataframe doesn't have demographic data\n",
    "everything_no_demog = everything.drop(columns=['sex', 'currentAge', 'weight', 'height'])"
   ]
  },
  {
   "cell_type": "markdown",
   "metadata": {},
   "source": [
    "# Random Forest Classifier Code\n",
    "1. Start by separating training and testing data... 139 for train and 34 for test\n",
    "2. Create output labels for every training example for i in range(1, 173)... for j in range(0, 351)...\n",
    "3. Build Random Forest\n",
    "4. Train"
   ]
  },
  {
   "cell_type": "code",
   "execution_count": 75,
   "metadata": {
    "scrolled": false
   },
   "outputs": [
    {
     "name": "stderr",
     "output_type": "stream",
     "text": [
      "/home/users/bhargavy/.local/lib/python3.6/site-packages/pandas/core/frame.py:3697: SettingWithCopyWarning: \n",
      "A value is trying to be set on a copy of a slice from a DataFrame\n",
      "\n",
      "See the caveats in the documentation: http://pandas.pydata.org/pandas-docs/stable/indexing.html#indexing-view-versus-copy\n",
      "  errors=errors)\n",
      "/share/software/user/open/py-jupyter/1.0.0_py36/lib/python3.6/site-packages/ipykernel_launcher.py:30: SettingWithCopyWarning: \n",
      "A value is trying to be set on a copy of a slice from a DataFrame.\n",
      "Try using .loc[row_indexer,col_indexer] = value instead\n",
      "\n",
      "See the caveats in the documentation: http://pandas.pydata.org/pandas-docs/stable/indexing.html#indexing-view-versus-copy\n",
      "/share/software/user/open/py-jupyter/1.0.0_py36/lib/python3.6/site-packages/ipykernel_launcher.py:31: SettingWithCopyWarning: \n",
      "A value is trying to be set on a copy of a slice from a DataFrame.\n",
      "Try using .loc[row_indexer,col_indexer] = value instead\n",
      "\n",
      "See the caveats in the documentation: http://pandas.pydata.org/pandas-docs/stable/indexing.html#indexing-view-versus-copy\n",
      "/share/software/user/open/py-jupyter/1.0.0_py36/lib/python3.6/site-packages/ipykernel_launcher.py:37: SettingWithCopyWarning: \n",
      "A value is trying to be set on a copy of a slice from a DataFrame.\n",
      "Try using .loc[row_indexer,col_indexer] = value instead\n",
      "\n",
      "See the caveats in the documentation: http://pandas.pydata.org/pandas-docs/stable/indexing.html#indexing-view-versus-copy\n",
      "/share/software/user/open/py-jupyter/1.0.0_py36/lib/python3.6/site-packages/ipykernel_launcher.py:38: SettingWithCopyWarning: \n",
      "A value is trying to be set on a copy of a slice from a DataFrame.\n",
      "Try using .loc[row_indexer,col_indexer] = value instead\n",
      "\n",
      "See the caveats in the documentation: http://pandas.pydata.org/pandas-docs/stable/indexing.html#indexing-view-versus-copy\n"
     ]
    },
    {
     "data": {
      "text/plain": [
       "RandomForestClassifier(bootstrap=True, class_weight=None, criterion='gini',\n",
       "            max_depth=None, max_features='auto', max_leaf_nodes=None,\n",
       "            min_impurity_decrease=0.0, min_impurity_split=None,\n",
       "            min_samples_leaf=1, min_samples_split=2,\n",
       "            min_weight_fraction_leaf=0.0, n_estimators=10, n_jobs=2,\n",
       "            oob_score=False, random_state=0, verbose=0, warm_start=False)"
      ]
     },
     "execution_count": 75,
     "metadata": {},
     "output_type": "execute_result"
    }
   ],
   "source": [
    "from sklearn.ensemble import RandomForestClassifier\n",
    "import numpy as np\n",
    "import pandas as pd\n",
    "import matplotlib.pyplot as plt\n",
    "import seaborn as sns\n",
    "sns.set()\n",
    "\n",
    "from sklearn.model_selection import train_test_split\n",
    "from sklearn import preprocessing\n",
    "lb = preprocessing.LabelBinarizer()\n",
    "\n",
    "# Shouldn't have to one-hot encode the sex because using random forest\n",
    "# One-hot encode ouput\n",
    "numOfTotalHC = 173\n",
    "numOfTrainHC = 139\n",
    "numOfTestHC = 34\n",
    "\n",
    "# Splits the training and testing into 80/20 with no sample scrambling\n",
    "# Must scramble after so that training set has no test samples in it\n",
    "training = everything.iloc[0:(numOfTrainHC * find_lowest_num_samples(newtotal_df))]\n",
    "testing = everything.iloc[(numOfTrainHC * find_lowest_num_samples(newtotal_df)):]\n",
    "\n",
    "uniques, labeling = pd.factorize(training.sex)\n",
    "uniques2, labeling2 = pd.factorize(testing.sex)\n",
    "\n",
    "n = training.columns[2]\n",
    "training.drop(n, axis = 1, inplace = True)\n",
    "training.insert(2, 'sex', uniques)\n",
    "# Male is 0 and Female is 1\n",
    "training['sex'] = training['sex'].astype(np.float64)\n",
    "training['peakcount'] = training['peakcount'].astype(np.float64)\n",
    "\n",
    "m = testing.columns[2]\n",
    "testing.drop(m, axis = 1, inplace = True)\n",
    "testing.insert(2, 'sex', uniques2)\n",
    "# Male is 0 and Female is 1\n",
    "testing['sex'] = testing['sex'].astype(np.float64)\n",
    "testing['peakcount'] = testing['peakcount'].astype(np.float64)\n",
    "\n",
    "# list of all of our features\n",
    "\n",
    "features = training.columns[:]\n",
    "\n",
    "# labeling our unique outputs\n",
    "y = pd.factorize(training.index.values)[0]\n",
    "\n",
    "clf = RandomForestClassifier(n_jobs=2, random_state=0)\n",
    "clf.fit(training[features], y)"
   ]
  },
  {
   "cell_type": "code",
   "execution_count": 111,
   "metadata": {
    "scrolled": true
   },
   "outputs": [
    {
     "data": {
      "text/plain": [
       "healthCode\n",
       "6f443735-81c0-457e-a334-58bb3a89168e   -2.471499\n",
       "6f443735-81c0-457e-a334-58bb3a89168e   -2.471499\n",
       "6f443735-81c0-457e-a334-58bb3a89168e   -2.913936\n",
       "6f443735-81c0-457e-a334-58bb3a89168e   -2.913936\n",
       "6f443735-81c0-457e-a334-58bb3a89168e   -2.361983\n",
       "6f443735-81c0-457e-a334-58bb3a89168e   -2.581776\n",
       "6f443735-81c0-457e-a334-58bb3a89168e   -2.581776\n",
       "6f443735-81c0-457e-a334-58bb3a89168e   -1.800203\n",
       "6f443735-81c0-457e-a334-58bb3a89168e   -1.739838\n",
       "6f443735-81c0-457e-a334-58bb3a89168e   -1.948717\n",
       "6f443735-81c0-457e-a334-58bb3a89168e   -1.948717\n",
       "6f443735-81c0-457e-a334-58bb3a89168e   -1.758329\n",
       "6f443735-81c0-457e-a334-58bb3a89168e   -2.096694\n",
       "6f443735-81c0-457e-a334-58bb3a89168e   -2.489845\n",
       "6f443735-81c0-457e-a334-58bb3a89168e   -2.780954\n",
       "6f443735-81c0-457e-a334-58bb3a89168e   -2.780954\n",
       "6f443735-81c0-457e-a334-58bb3a89168e   -2.713959\n",
       "6f443735-81c0-457e-a334-58bb3a89168e   -2.091379\n",
       "6f443735-81c0-457e-a334-58bb3a89168e   -2.077187\n",
       "6f443735-81c0-457e-a334-58bb3a89168e   -3.038534\n",
       "6f443735-81c0-457e-a334-58bb3a89168e   -3.038534\n",
       "6f443735-81c0-457e-a334-58bb3a89168e   -2.761241\n",
       "6f443735-81c0-457e-a334-58bb3a89168e   -2.761241\n",
       "6f443735-81c0-457e-a334-58bb3a89168e   -2.922405\n",
       "6f443735-81c0-457e-a334-58bb3a89168e   -2.922405\n",
       "6f443735-81c0-457e-a334-58bb3a89168e   -3.137268\n",
       "6f443735-81c0-457e-a334-58bb3a89168e   -3.282225\n",
       "6f443735-81c0-457e-a334-58bb3a89168e   -3.282225\n",
       "6f443735-81c0-457e-a334-58bb3a89168e   -2.462406\n",
       "6f443735-81c0-457e-a334-58bb3a89168e   -2.538448\n",
       "                                          ...   \n",
       "6f443735-81c0-457e-a334-58bb3a89168e   -2.220159\n",
       "6f443735-81c0-457e-a334-58bb3a89168e   -2.220159\n",
       "6f443735-81c0-457e-a334-58bb3a89168e   -1.833916\n",
       "6f443735-81c0-457e-a334-58bb3a89168e   -3.065683\n",
       "6f443735-81c0-457e-a334-58bb3a89168e   -3.065683\n",
       "6f443735-81c0-457e-a334-58bb3a89168e   -2.836282\n",
       "6f443735-81c0-457e-a334-58bb3a89168e   -3.698186\n",
       "6f443735-81c0-457e-a334-58bb3a89168e   -3.698186\n",
       "6f443735-81c0-457e-a334-58bb3a89168e   -2.859304\n",
       "6f443735-81c0-457e-a334-58bb3a89168e   -2.266587\n",
       "6f443735-81c0-457e-a334-58bb3a89168e   -1.741246\n",
       "6f443735-81c0-457e-a334-58bb3a89168e   -1.741246\n",
       "6f443735-81c0-457e-a334-58bb3a89168e   -1.800922\n",
       "6f443735-81c0-457e-a334-58bb3a89168e   -2.068959\n",
       "6f443735-81c0-457e-a334-58bb3a89168e   -2.068959\n",
       "6f443735-81c0-457e-a334-58bb3a89168e   -1.908779\n",
       "6f443735-81c0-457e-a334-58bb3a89168e   -1.753982\n",
       "6f443735-81c0-457e-a334-58bb3a89168e   -3.092571\n",
       "6f443735-81c0-457e-a334-58bb3a89168e   -3.092571\n",
       "6f443735-81c0-457e-a334-58bb3a89168e   -1.910488\n",
       "6f443735-81c0-457e-a334-58bb3a89168e   -2.440739\n",
       "6f443735-81c0-457e-a334-58bb3a89168e   -2.440739\n",
       "6f443735-81c0-457e-a334-58bb3a89168e   -2.671972\n",
       "6f443735-81c0-457e-a334-58bb3a89168e   -2.671972\n",
       "6f443735-81c0-457e-a334-58bb3a89168e   -1.824649\n",
       "6f443735-81c0-457e-a334-58bb3a89168e   -1.635446\n",
       "6f443735-81c0-457e-a334-58bb3a89168e   -2.278832\n",
       "6f443735-81c0-457e-a334-58bb3a89168e   -2.278832\n",
       "6f443735-81c0-457e-a334-58bb3a89168e   -2.290751\n",
       "6f443735-81c0-457e-a334-58bb3a89168e   -2.290751\n",
       "Name: min, Length: 352, dtype: float64"
      ]
     },
     "execution_count": 111,
     "metadata": {},
     "output_type": "execute_result"
    }
   ],
   "source": [
    "everything_no_demog.loc['6f443735-81c0-457e-a334-58bb3a89168e']['min']"
   ]
  },
  {
   "cell_type": "code",
   "execution_count": 116,
   "metadata": {
    "scrolled": true
   },
   "outputs": [],
   "source": [
    "final = []\n",
    "for x in list(set(everything_no_demog.index)):\n",
    "    \n",
    "    final.append(list(everything_no_demog.loc[x]['max'].values))"
   ]
  },
  {
   "cell_type": "code",
   "execution_count": 117,
   "metadata": {},
   "outputs": [
    {
     "data": {
      "text/plain": [
       "array([67, 77, 69, 56, 15, 93, 11, 67, 25, 19, 62, 94, 62, 74, 92, 59, 52,\n",
       "       94, 14, 49, 70, 34, 16, 46, 74, 58, 75, 20, 73, 37, 62, 60, 64, 82,\n",
       "       67, 18, 61, 87, 67, 33, 49, 57, 59, 43, 99, 53, 45, 70, 70, 70, 26,\n",
       "       43, 76, 59, 36, 29, 67, 16, 13, 16, 62, 70, 90,  4, 94, 67, 32, 70,\n",
       "       83, 47,  3,  3, 28, 38, 16, 96, 97,  7, 42, 23, 67, 86, 10, 50, 70,\n",
       "       17, 70, 43, 49, 67,  8, 94, 16, 24, 70, 88, 27, 67,  2, 43, 70, 16,\n",
       "       67, 67, 16, 88, 59, 43, 96, 43, 54, 40,  6, 70,  3, 71, 51, 84, 81,\n",
       "       89, 44, 55,  5, 95, 68, 84, 48, 80, 94, 43, 21, 31, 16, 26,  3, 16,\n",
       "       43, 67, 35, 12, 67, 91, 78, 65,  9, 70, 59, 43, 66, 39, 67, 67, 43,\n",
       "       67, 16, 41, 59, 22, 67, 30, 67, 98, 10, 70, 88,  0, 63, 43, 72, 67,\n",
       "        1, 79, 85], dtype=int32)"
      ]
     },
     "execution_count": 117,
     "metadata": {},
     "output_type": "execute_result"
    }
   ],
   "source": [
    "from sklearn.cluster import KMeans\n",
    "import numpy as np\n",
    "import matplotlib.pyplot as plt\n",
    "import seaborn as sns\n",
    "sns.set()\n",
    "X = np.array(final)\n",
    "kmeans = KMeans(n_clusters=100, random_state=0).fit(X)\n",
    "kmeans.labels_"
   ]
  },
  {
   "cell_type": "code",
   "execution_count": 118,
   "metadata": {},
   "outputs": [
    {
     "data": {
      "image/png": "[encoded data removed]",
      "text/plain": [
       "<Figure size 432x288 with 1 Axes>"
      ]
     },
     "metadata": {},
     "output_type": "display_data"
    }
   ],
   "source": [
    "%matplotlib inline\n",
    "centers = kmeans.cluster_centers_\n",
    "plt.scatter(centers[:, 0], centers[:, 1], c='black', s=200, alpha=0.5);"
   ]
  },
  {
   "cell_type": "code",
   "execution_count": 45,
   "metadata": {},
   "outputs": [
    {
     "name": "stderr",
     "output_type": "stream",
     "text": [
      "/home/users/bhargavy/.local/lib/python3.6/site-packages/matplotlib/axes/_axes.py:6462: UserWarning: The 'normed' kwarg is deprecated, and has been replaced by the 'density' kwarg.\n",
      "  warnings.warn(\"The 'normed' kwarg is deprecated, and has been \"\n"
     ]
    },
    {
     "data": {
      "text/plain": [
       "<matplotlib.axes._subplots.AxesSubplot at 0x7f52d4904400>"
      ]
     },
     "execution_count": 45,
     "metadata": {},
     "output_type": "execute_result"
    },
    {
     "data": {
      "image/png": "[encoded data removed]",
      "text/plain": [
       "<Figure size 432x288 with 1 Axes>"
      ]
     },
     "metadata": {},
     "output_type": "display_data"
    }
   ],
   "source": [
    "import seaborn as sns\n",
    "sns.set()\n",
    "sns.distplot(everything['min'], bins=10000, kde=False, rug=False, color='purple')"
   ]
  },
  {
   "cell_type": "code",
   "execution_count": 51,
   "metadata": {},
   "outputs": [
    {
     "name": "stderr",
     "output_type": "stream",
     "text": [
      "/home/users/bhargavy/.local/lib/python3.6/site-packages/matplotlib/axes/_axes.py:6462: UserWarning: The 'normed' kwarg is deprecated, and has been replaced by the 'density' kwarg.\n",
      "  warnings.warn(\"The 'normed' kwarg is deprecated, and has been \"\n"
     ]
    },
    {
     "data": {
      "text/plain": [
       "<matplotlib.axes._subplots.AxesSubplot at 0x7f71f563b2e8>"
      ]
     },
     "execution_count": 51,
     "metadata": {},
     "output_type": "execute_result"
    },
    {
     "data": {
      "image/png": "[encoded data removed]",
      "text/plain": [
       "<Figure size 432x288 with 1 Axes>"
      ]
     },
     "metadata": {},
     "output_type": "display_data"
    }
   ],
   "source": [
    "sns.distplot(total_df['min'], bins=10000, kde=True, rug=False, color='green')"
   ]
  },
  {
   "cell_type": "code",
   "execution_count": 52,
   "metadata": {},
   "outputs": [
    {
     "name": "stderr",
     "output_type": "stream",
     "text": [
      "/home/users/bhargavy/.local/lib/python3.6/site-packages/matplotlib/axes/_axes.py:6462: UserWarning: The 'normed' kwarg is deprecated, and has been replaced by the 'density' kwarg.\n",
      "  warnings.warn(\"The 'normed' kwarg is deprecated, and has been \"\n"
     ]
    },
    {
     "data": {
      "text/plain": [
       "<matplotlib.axes._subplots.AxesSubplot at 0x7f71f4b8d668>"
      ]
     },
     "execution_count": 52,
     "metadata": {},
     "output_type": "execute_result"
    },
    {
     "data": {
      "image/png": "[encoded data removed]",
      "text/plain": [
       "<Figure size 432x288 with 1 Axes>"
      ]
     },
     "metadata": {},
     "output_type": "display_data"
    }
   ],
   "source": [
    "sns.distplot(total_df['max'], bins=10000, kde=True, rug=False, color='orange')"
   ]
  },
  {
   "cell_type": "code",
   "execution_count": 53,
   "metadata": {},
   "outputs": [
    {
     "name": "stderr",
     "output_type": "stream",
     "text": [
      "/home/users/bhargavy/.local/lib/python3.6/site-packages/matplotlib/axes/_axes.py:6462: UserWarning: The 'normed' kwarg is deprecated, and has been replaced by the 'density' kwarg.\n",
      "  warnings.warn(\"The 'normed' kwarg is deprecated, and has been \"\n"
     ]
    },
    {
     "data": {
      "text/plain": [
       "<matplotlib.axes._subplots.AxesSubplot at 0x7f71ef6e8f60>"
      ]
     },
     "execution_count": 53,
     "metadata": {},
     "output_type": "execute_result"
    },
    {
     "data": {
      "image/png": "[encoded data removed]",
      "text/plain": [
       "<Figure size 432x288 with 1 Axes>"
      ]
     },
     "metadata": {},
     "output_type": "display_data"
    }
   ],
   "source": [
    "sns.distplot(total_df['peakcount'], bins=50, kde=True, rug=False, color='blue')"
   ]
  },
  {
   "cell_type": "code",
   "execution_count": 54,
   "metadata": {},
   "outputs": [
    {
     "name": "stderr",
     "output_type": "stream",
     "text": [
      "/home/users/bhargavy/.local/lib/python3.6/site-packages/matplotlib/axes/_axes.py:6462: UserWarning: The 'normed' kwarg is deprecated, and has been replaced by the 'density' kwarg.\n",
      "  warnings.warn(\"The 'normed' kwarg is deprecated, and has been \"\n"
     ]
    },
    {
     "data": {
      "text/plain": [
       "<matplotlib.axes._subplots.AxesSubplot at 0x7f71e98511d0>"
      ]
     },
     "execution_count": 54,
     "metadata": {},
     "output_type": "execute_result"
    },
    {
     "data": {
      "image/png": "[encoded data removed]",
      "text/plain": [
       "<Figure size 432x288 with 1 Axes>"
      ]
     },
     "metadata": {},
     "output_type": "display_data"
    }
   ],
   "source": [
    "from numpy import linalg as LA\n",
    "normed = [x for x in test_v4['fundamental_freq']]\n",
    "sns.distplot(normed, bins= 10000, kde=True, rug=False, color='red')"
   ]
  }
 ],
 "metadata": {
  "kernelspec": {
   "display_name": "Python 3",
   "language": "python",
   "name": "python3"
  },
  "language_info": {
   "codemirror_mode": {
    "name": "ipython",
    "version": 3
   },
   "file_extension": ".py",
   "mimetype": "text/x-python",
   "name": "python",
   "nbconvert_exporter": "python",
   "pygments_lexer": "ipython3",
   "version": "3.6.1"
  }
 },
 "nbformat": 4,
 "nbformat_minor": 2
}
